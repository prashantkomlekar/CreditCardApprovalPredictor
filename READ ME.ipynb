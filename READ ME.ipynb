{
 "cells": [
  {
   "cell_type": "markdown",
   "id": "006ec7e2",
   "metadata": {},
   "source": [
    "# GOALS OF THE PROJECT"
   ]
  },
  {
   "cell_type": "markdown",
   "id": "be103737",
   "metadata": {},
   "source": [
    "In this project, we’ll be using Credit Card Approval Dataset. The structure of our project will be as follows:\n",
    "1. To get a basic introduction of our project & What’s the business problem associated with it ?\n",
    "2. We’ll start by loading and viewing the dataset.\n",
    "3. To manipulate data, if there are any missing entries in the dataset.\n",
    "4. To perform exploratory data analysis (EDA) on our dataset.\n",
    "5. To pre-process data before applying machine learning model to the dataset.\n",
    "6. To apply machine learning models that can predict if an individual’s application for a credit card will be accepted or not."
   ]
  },
  {
   "cell_type": "markdown",
   "id": "1c968aaa",
   "metadata": {},
   "source": [
    "# USED LIBRARIES\n",
    "1. PANDAS\n",
    "2. NUMPY\n",
    "3. MATPLOTLIB\n",
    "4. SEABORN\n",
    "5. PLOTLY\n"
   ]
  },
  {
   "cell_type": "markdown",
   "id": "9cdaae6e",
   "metadata": {},
   "source": [
    "# TASK"
   ]
  },
  {
   "cell_type": "markdown",
   "id": "332fb169",
   "metadata": {},
   "source": [
    "1. ID: Unique Id of the row  \n",
    "2. CODE_GENDER: Gender of the applicant. M is male and F is female.  \n",
    "3. FLAG_OWN_CAR: Is an applicant with a car. Y is Yes and N is NO.  \n",
    "4. FLAG_OWN_REALTY: Is an applicant with realty. Y is Yes and N is No.  \n",
    "5. CNT_CHILDREN: Count of children.  \n",
    "6. AMT_INCOME_TOTAL: the amount of the income.  \n",
    "7. NAME_INCOME_TYPE: The type of income (5 types in total).  \n",
    "8. NAME_EDUCATION_TYPE: The type of education (5 types in total).  \n",
    "9. NAME_FAMILY_STATUS: The type of family status (6 types in total).  \n",
    "10. DAYS_BIRTH: The number of the days from birth (Negative values).  \n",
    "11. DAYS_EMPLOYED: The number of the days from employed (Negative values). This column has error values.  \n",
    "12. FLAG_MOBIL: Is an applicant with a mobile. 1 is True and 0 is False.  \n",
    "13. FLAG_WORK_PHONE: Is an applicant with a work phone. 1 is True and 0 is False.  \n",
    "14. FLAG_PHONE: Is an applicant with a phone. 1 is True and 0 is False.    \n",
    "15. FLAG_EMAIL: Is an applicant with a email. 1 is True and 0 is False.  \n",
    "16. OCCUPATION_TYPE: The type of occupation (19 types in total). This column has missing values.  \n",
    "17. CNT_FAM_MEMBERS: The count of family members.  \n"
   ]
  },
  {
   "cell_type": "markdown",
   "id": "ab683d4c",
   "metadata": {},
   "source": [
    "This is a csv file with credit record for a part of ID in application record. We can treat it a file to generate labels for modeling. For the applicants who have a record more than 59 past due, they should be rejected.\n",
    "\n",
    "After reading the data, we have the following columns.\n",
    "\n",
    "1. ID: Unique Id of the row in application record.\n",
    "2. MONTHS_BALANCE: The number of months from record time.\n",
    "3. STATUS: Credit status for this month.  \n",
    "  X: No loan for the month  \n",
    "  C: paid off that month   \n",
    "  0: 1-29 days past due   \n",
    "  1: 30-59 days past due   \n",
    "  2: 60-89 days overdue  \n",
    "  3: 90-119 days overdue   \n",
    "  4: 120-149 days overdue   \n",
    "  5: Overdue or bad debts, write-offs for more than 150 days   "
   ]
  },
  {
   "cell_type": "code",
   "execution_count": null,
   "id": "9602c79e",
   "metadata": {},
   "outputs": [],
   "source": []
  }
 ],
 "metadata": {
  "kernelspec": {
   "display_name": "Python 3 (ipykernel)",
   "language": "python",
   "name": "python3"
  },
  "language_info": {
   "codemirror_mode": {
    "name": "ipython",
    "version": 3
   },
   "file_extension": ".py",
   "mimetype": "text/x-python",
   "name": "python",
   "nbconvert_exporter": "python",
   "pygments_lexer": "ipython3",
   "version": "3.11.5"
  }
 },
 "nbformat": 4,
 "nbformat_minor": 5
}
